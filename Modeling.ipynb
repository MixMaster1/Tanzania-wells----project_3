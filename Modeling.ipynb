{
 "cells": [
  {
   "cell_type": "markdown",
   "metadata": {},
   "source": [
    "# Modeling for Tanzania Water Wells"
   ]
  },
  {
   "cell_type": "code",
   "execution_count": 7,
   "metadata": {},
   "outputs": [
    {
     "name": "stdout",
     "output_type": "stream",
     "text": [
      "C:\\Users\\artur\\Documents\\Tanzania-wells----project_3\\Data Set\n"
     ]
    }
   ],
   "source": [
    "cd \"Data Set\""
   ]
  },
  {
   "cell_type": "markdown",
   "metadata": {},
   "source": [
    "### Importing tools I will need in my modeling."
   ]
  },
  {
   "cell_type": "code",
   "execution_count": 3,
   "metadata": {},
   "outputs": [
    {
     "name": "stdout",
     "output_type": "stream",
     "text": [
      "Requirement already up-to-date: xgboost in c:\\users\\artur\\anaconda3\\lib\\site-packages (1.0.2)\n",
      "Requirement already satisfied, skipping upgrade: scipy in c:\\users\\artur\\anaconda3\\lib\\site-packages (from xgboost) (1.3.1)\n",
      "Requirement already satisfied, skipping upgrade: numpy in c:\\users\\artur\\anaconda3\\lib\\site-packages (from xgboost) (1.16.5)\n",
      "Note: you may need to restart the kernel to use updated packages.\n"
     ]
    }
   ],
   "source": [
    "pip install --upgrade xgboost\n"
   ]
  },
  {
   "cell_type": "code",
   "execution_count": 4,
   "metadata": {},
   "outputs": [],
   "source": [
    "import pandas as pd \n",
    "import numpy as np \n",
    "\n",
    "import pickle\n",
    "from sklearn.model_selection import train_test_split\n",
    "from sklearn.preprocessing import StandardScaler \n",
    "from sklearn import metrics\n",
    "from sklearn.naive_bayes import GaussianNB\n",
    "from sklearn.tree import DecisionTreeClassifier\n",
    "from sklearn.metrics import mean_squared_error\n",
    "from sklearn.metrics import mean_absolute_error\n",
    "from sklearn.metrics import r2_score\n",
    "from sklearn.ensemble import RandomForestClassifier\n",
    "from sklearn.model_selection import GridSearchCV\n",
    "from xgboost import XGBClassifier\n",
    "from sklearn.metrics import confusion_matrix\n",
    "\n",
    "\n",
    "import matplotlib.pyplot as plt\n",
    "import seaborn as sns\n",
    "%matplotlib inline"
   ]
  },
  {
   "cell_type": "markdown",
   "metadata": {},
   "source": [
    "#### Function to help encode"
   ]
  },
  {
   "cell_type": "code",
   "execution_count": 5,
   "metadata": {},
   "outputs": [],
   "source": [
    "def encode_me(column, dataframe):\n",
    "    '''\n",
    "    Receive column name and dataframe and return dataframe with dummy variables and removed columns.\n",
    "    column: String for the column we want to turn into dummy variables.\n",
    "    dataframe: dataframe we will work with.\n",
    "    '''\n",
    "    dummies = pd.get_dummies(dataframe[column]) #creating dummy variables in our dataframe.\n",
    "    dummies.drop(dummies.columns[0], axis=1, inplace=True) #dropping columns no longer needed\n",
    "    rename_dict = {}\n",
    "    for c in dummies.columns:\n",
    "        rename_dict[c] = str(column) + '_' + str(c) \n",
    "    dummies.rename(columns = rename_dict,inplace=True) #renaming dataframe from dummies to orignal name\n",
    "    dataframe = dataframe.join(dummies) #having the dataframe saved as the encoded data.\n",
    "    dataframe.drop(column,axis=1, inplace=True)\n",
    "    return dataframe"
   ]
  },
  {
   "cell_type": "markdown",
   "metadata": {},
   "source": [
    "## Data clean up for future modeling"
   ]
  },
  {
   "cell_type": "code",
   "execution_count": 8,
   "metadata": {},
   "outputs": [],
   "source": [
    "data_X = pd.read_csv('X.csv')\n",
    "data_y = pd.read_csv('y.csv')"
   ]
  },
  {
   "cell_type": "code",
   "execution_count": 9,
   "metadata": {},
   "outputs": [
    {
     "name": "stdout",
     "output_type": "stream",
     "text": [
      "(59400, 41)\n"
     ]
    },
    {
     "data": {
      "text/html": [
       "<div>\n",
       "<style scoped>\n",
       "    .dataframe tbody tr th:only-of-type {\n",
       "        vertical-align: middle;\n",
       "    }\n",
       "\n",
       "    .dataframe tbody tr th {\n",
       "        vertical-align: top;\n",
       "    }\n",
       "\n",
       "    .dataframe thead th {\n",
       "        text-align: right;\n",
       "    }\n",
       "</style>\n",
       "<table border=\"1\" class=\"dataframe\">\n",
       "  <thead>\n",
       "    <tr style=\"text-align: right;\">\n",
       "      <th></th>\n",
       "      <th>id</th>\n",
       "      <th>amount_tsh</th>\n",
       "      <th>date_recorded</th>\n",
       "      <th>funder</th>\n",
       "      <th>gps_height</th>\n",
       "      <th>installer</th>\n",
       "      <th>longitude</th>\n",
       "      <th>latitude</th>\n",
       "      <th>wpt_name</th>\n",
       "      <th>num_private</th>\n",
       "      <th>...</th>\n",
       "      <th>water_quality</th>\n",
       "      <th>quality_group</th>\n",
       "      <th>quantity</th>\n",
       "      <th>quantity_group</th>\n",
       "      <th>source</th>\n",
       "      <th>source_type</th>\n",
       "      <th>source_class</th>\n",
       "      <th>waterpoint_type</th>\n",
       "      <th>waterpoint_type_group</th>\n",
       "      <th>status_group</th>\n",
       "    </tr>\n",
       "  </thead>\n",
       "  <tbody>\n",
       "    <tr>\n",
       "      <td>0</td>\n",
       "      <td>69572</td>\n",
       "      <td>6000.0</td>\n",
       "      <td>2011-03-14</td>\n",
       "      <td>Roman</td>\n",
       "      <td>1390</td>\n",
       "      <td>Roman</td>\n",
       "      <td>34.938093</td>\n",
       "      <td>-9.856322</td>\n",
       "      <td>none</td>\n",
       "      <td>0</td>\n",
       "      <td>...</td>\n",
       "      <td>soft</td>\n",
       "      <td>good</td>\n",
       "      <td>enough</td>\n",
       "      <td>enough</td>\n",
       "      <td>spring</td>\n",
       "      <td>spring</td>\n",
       "      <td>groundwater</td>\n",
       "      <td>communal standpipe</td>\n",
       "      <td>communal standpipe</td>\n",
       "      <td>functional</td>\n",
       "    </tr>\n",
       "    <tr>\n",
       "      <td>1</td>\n",
       "      <td>8776</td>\n",
       "      <td>0.0</td>\n",
       "      <td>2013-03-06</td>\n",
       "      <td>Grumeti</td>\n",
       "      <td>1399</td>\n",
       "      <td>GRUMETI</td>\n",
       "      <td>34.698766</td>\n",
       "      <td>-2.147466</td>\n",
       "      <td>Zahanati</td>\n",
       "      <td>0</td>\n",
       "      <td>...</td>\n",
       "      <td>soft</td>\n",
       "      <td>good</td>\n",
       "      <td>insufficient</td>\n",
       "      <td>insufficient</td>\n",
       "      <td>rainwater harvesting</td>\n",
       "      <td>rainwater harvesting</td>\n",
       "      <td>surface</td>\n",
       "      <td>communal standpipe</td>\n",
       "      <td>communal standpipe</td>\n",
       "      <td>functional</td>\n",
       "    </tr>\n",
       "    <tr>\n",
       "      <td>2</td>\n",
       "      <td>34310</td>\n",
       "      <td>25.0</td>\n",
       "      <td>2013-02-25</td>\n",
       "      <td>Lottery Club</td>\n",
       "      <td>686</td>\n",
       "      <td>World vision</td>\n",
       "      <td>37.460664</td>\n",
       "      <td>-3.821329</td>\n",
       "      <td>Kwa Mahundi</td>\n",
       "      <td>0</td>\n",
       "      <td>...</td>\n",
       "      <td>soft</td>\n",
       "      <td>good</td>\n",
       "      <td>enough</td>\n",
       "      <td>enough</td>\n",
       "      <td>dam</td>\n",
       "      <td>dam</td>\n",
       "      <td>surface</td>\n",
       "      <td>communal standpipe multiple</td>\n",
       "      <td>communal standpipe</td>\n",
       "      <td>functional</td>\n",
       "    </tr>\n",
       "    <tr>\n",
       "      <td>3</td>\n",
       "      <td>67743</td>\n",
       "      <td>0.0</td>\n",
       "      <td>2013-01-28</td>\n",
       "      <td>Unicef</td>\n",
       "      <td>263</td>\n",
       "      <td>UNICEF</td>\n",
       "      <td>38.486161</td>\n",
       "      <td>-11.155298</td>\n",
       "      <td>Zahanati Ya Nanyumbu</td>\n",
       "      <td>0</td>\n",
       "      <td>...</td>\n",
       "      <td>soft</td>\n",
       "      <td>good</td>\n",
       "      <td>dry</td>\n",
       "      <td>dry</td>\n",
       "      <td>machine dbh</td>\n",
       "      <td>borehole</td>\n",
       "      <td>groundwater</td>\n",
       "      <td>communal standpipe multiple</td>\n",
       "      <td>communal standpipe</td>\n",
       "      <td>non functional</td>\n",
       "    </tr>\n",
       "    <tr>\n",
       "      <td>4</td>\n",
       "      <td>19728</td>\n",
       "      <td>0.0</td>\n",
       "      <td>2011-07-13</td>\n",
       "      <td>Action In A</td>\n",
       "      <td>0</td>\n",
       "      <td>Artisan</td>\n",
       "      <td>31.130847</td>\n",
       "      <td>-1.825359</td>\n",
       "      <td>Shuleni</td>\n",
       "      <td>0</td>\n",
       "      <td>...</td>\n",
       "      <td>soft</td>\n",
       "      <td>good</td>\n",
       "      <td>seasonal</td>\n",
       "      <td>seasonal</td>\n",
       "      <td>rainwater harvesting</td>\n",
       "      <td>rainwater harvesting</td>\n",
       "      <td>surface</td>\n",
       "      <td>communal standpipe</td>\n",
       "      <td>communal standpipe</td>\n",
       "      <td>functional</td>\n",
       "    </tr>\n",
       "  </tbody>\n",
       "</table>\n",
       "<p>5 rows × 41 columns</p>\n",
       "</div>"
      ],
      "text/plain": [
       "      id  amount_tsh date_recorded        funder  gps_height     installer  \\\n",
       "0  69572      6000.0    2011-03-14         Roman        1390         Roman   \n",
       "1   8776         0.0    2013-03-06       Grumeti        1399       GRUMETI   \n",
       "2  34310        25.0    2013-02-25  Lottery Club         686  World vision   \n",
       "3  67743         0.0    2013-01-28        Unicef         263        UNICEF   \n",
       "4  19728         0.0    2011-07-13   Action In A           0       Artisan   \n",
       "\n",
       "   longitude   latitude              wpt_name  num_private  ... water_quality  \\\n",
       "0  34.938093  -9.856322                  none            0  ...          soft   \n",
       "1  34.698766  -2.147466              Zahanati            0  ...          soft   \n",
       "2  37.460664  -3.821329           Kwa Mahundi            0  ...          soft   \n",
       "3  38.486161 -11.155298  Zahanati Ya Nanyumbu            0  ...          soft   \n",
       "4  31.130847  -1.825359               Shuleni            0  ...          soft   \n",
       "\n",
       "  quality_group      quantity  quantity_group                source  \\\n",
       "0          good        enough          enough                spring   \n",
       "1          good  insufficient    insufficient  rainwater harvesting   \n",
       "2          good        enough          enough                   dam   \n",
       "3          good           dry             dry           machine dbh   \n",
       "4          good      seasonal        seasonal  rainwater harvesting   \n",
       "\n",
       "            source_type source_class              waterpoint_type  \\\n",
       "0                spring  groundwater           communal standpipe   \n",
       "1  rainwater harvesting      surface           communal standpipe   \n",
       "2                   dam      surface  communal standpipe multiple   \n",
       "3              borehole  groundwater  communal standpipe multiple   \n",
       "4  rainwater harvesting      surface           communal standpipe   \n",
       "\n",
       "  waterpoint_type_group    status_group  \n",
       "0    communal standpipe      functional  \n",
       "1    communal standpipe      functional  \n",
       "2    communal standpipe      functional  \n",
       "3    communal standpipe  non functional  \n",
       "4    communal standpipe      functional  \n",
       "\n",
       "[5 rows x 41 columns]"
      ]
     },
     "execution_count": 9,
     "metadata": {},
     "output_type": "execute_result"
    }
   ],
   "source": [
    "data_water = data_X.merge(data_y, how='inner', on='id') \n",
    "print(data_water.shape)\n",
    "data_water.head()"
   ]
  },
  {
   "cell_type": "code",
   "execution_count": 10,
   "metadata": {},
   "outputs": [
    {
     "data": {
      "text/plain": [
       "Index(['id', 'amount_tsh', 'date_recorded', 'funder', 'gps_height',\n",
       "       'installer', 'longitude', 'latitude', 'wpt_name', 'num_private',\n",
       "       'basin', 'subvillage', 'region', 'region_code', 'district_code', 'lga',\n",
       "       'ward', 'population', 'public_meeting', 'recorded_by',\n",
       "       'scheme_management', 'scheme_name', 'permit', 'construction_year',\n",
       "       'extraction_type', 'extraction_type_group', 'extraction_type_class',\n",
       "       'management', 'management_group', 'payment', 'payment_type',\n",
       "       'water_quality', 'quality_group', 'quantity', 'quantity_group',\n",
       "       'source', 'source_type', 'source_class', 'waterpoint_type',\n",
       "       'waterpoint_type_group', 'status_group'],\n",
       "      dtype='object')"
      ]
     },
     "execution_count": 10,
     "metadata": {},
     "output_type": "execute_result"
    }
   ],
   "source": [
    "data_water.keys()"
   ]
  },
  {
   "cell_type": "code",
   "execution_count": 11,
   "metadata": {},
   "outputs": [],
   "source": [
    "data_water.drop(columns= ['id', 'funder', 'installer', 'num_private', 'scheme_management', 'scheme_name', 'permit', 'amount_tsh',\n",
    "                         'waterpoint_type_group', 'source', 'region_code', 'district_code', 'management_group', 'payment_type',\n",
    "                          'extraction_type', 'extraction_type_group', 'recorded_by', 'ward', 'lga', 'wpt_name', 'subvillage', \n",
    "                          'quantity_group', 'longitude', 'latitude', 'date_recorded', 'water_quality' ], axis=1, inplace=True)"
   ]
  },
  {
   "cell_type": "code",
   "execution_count": 12,
   "metadata": {},
   "outputs": [
    {
     "data": {
      "text/html": [
       "<div>\n",
       "<style scoped>\n",
       "    .dataframe tbody tr th:only-of-type {\n",
       "        vertical-align: middle;\n",
       "    }\n",
       "\n",
       "    .dataframe tbody tr th {\n",
       "        vertical-align: top;\n",
       "    }\n",
       "\n",
       "    .dataframe thead th {\n",
       "        text-align: right;\n",
       "    }\n",
       "</style>\n",
       "<table border=\"1\" class=\"dataframe\">\n",
       "  <thead>\n",
       "    <tr style=\"text-align: right;\">\n",
       "      <th></th>\n",
       "      <th>gps_height</th>\n",
       "      <th>basin</th>\n",
       "      <th>region</th>\n",
       "      <th>population</th>\n",
       "      <th>public_meeting</th>\n",
       "      <th>construction_year</th>\n",
       "      <th>extraction_type_class</th>\n",
       "      <th>management</th>\n",
       "      <th>payment</th>\n",
       "      <th>quality_group</th>\n",
       "      <th>quantity</th>\n",
       "      <th>source_type</th>\n",
       "      <th>source_class</th>\n",
       "      <th>waterpoint_type</th>\n",
       "      <th>status_group</th>\n",
       "    </tr>\n",
       "  </thead>\n",
       "  <tbody>\n",
       "    <tr>\n",
       "      <td>0</td>\n",
       "      <td>1390</td>\n",
       "      <td>Lake Nyasa</td>\n",
       "      <td>Iringa</td>\n",
       "      <td>109</td>\n",
       "      <td>True</td>\n",
       "      <td>1999</td>\n",
       "      <td>gravity</td>\n",
       "      <td>vwc</td>\n",
       "      <td>pay annually</td>\n",
       "      <td>good</td>\n",
       "      <td>enough</td>\n",
       "      <td>spring</td>\n",
       "      <td>groundwater</td>\n",
       "      <td>communal standpipe</td>\n",
       "      <td>functional</td>\n",
       "    </tr>\n",
       "    <tr>\n",
       "      <td>1</td>\n",
       "      <td>1399</td>\n",
       "      <td>Lake Victoria</td>\n",
       "      <td>Mara</td>\n",
       "      <td>280</td>\n",
       "      <td>NaN</td>\n",
       "      <td>2010</td>\n",
       "      <td>gravity</td>\n",
       "      <td>wug</td>\n",
       "      <td>never pay</td>\n",
       "      <td>good</td>\n",
       "      <td>insufficient</td>\n",
       "      <td>rainwater harvesting</td>\n",
       "      <td>surface</td>\n",
       "      <td>communal standpipe</td>\n",
       "      <td>functional</td>\n",
       "    </tr>\n",
       "    <tr>\n",
       "      <td>2</td>\n",
       "      <td>686</td>\n",
       "      <td>Pangani</td>\n",
       "      <td>Manyara</td>\n",
       "      <td>250</td>\n",
       "      <td>True</td>\n",
       "      <td>2009</td>\n",
       "      <td>gravity</td>\n",
       "      <td>vwc</td>\n",
       "      <td>pay per bucket</td>\n",
       "      <td>good</td>\n",
       "      <td>enough</td>\n",
       "      <td>dam</td>\n",
       "      <td>surface</td>\n",
       "      <td>communal standpipe multiple</td>\n",
       "      <td>functional</td>\n",
       "    </tr>\n",
       "    <tr>\n",
       "      <td>3</td>\n",
       "      <td>263</td>\n",
       "      <td>Ruvuma / Southern Coast</td>\n",
       "      <td>Mtwara</td>\n",
       "      <td>58</td>\n",
       "      <td>True</td>\n",
       "      <td>1986</td>\n",
       "      <td>submersible</td>\n",
       "      <td>vwc</td>\n",
       "      <td>never pay</td>\n",
       "      <td>good</td>\n",
       "      <td>dry</td>\n",
       "      <td>borehole</td>\n",
       "      <td>groundwater</td>\n",
       "      <td>communal standpipe multiple</td>\n",
       "      <td>non functional</td>\n",
       "    </tr>\n",
       "    <tr>\n",
       "      <td>4</td>\n",
       "      <td>0</td>\n",
       "      <td>Lake Victoria</td>\n",
       "      <td>Kagera</td>\n",
       "      <td>0</td>\n",
       "      <td>True</td>\n",
       "      <td>0</td>\n",
       "      <td>gravity</td>\n",
       "      <td>other</td>\n",
       "      <td>never pay</td>\n",
       "      <td>good</td>\n",
       "      <td>seasonal</td>\n",
       "      <td>rainwater harvesting</td>\n",
       "      <td>surface</td>\n",
       "      <td>communal standpipe</td>\n",
       "      <td>functional</td>\n",
       "    </tr>\n",
       "  </tbody>\n",
       "</table>\n",
       "</div>"
      ],
      "text/plain": [
       "   gps_height                    basin   region  population public_meeting  \\\n",
       "0        1390               Lake Nyasa   Iringa         109           True   \n",
       "1        1399            Lake Victoria     Mara         280            NaN   \n",
       "2         686                  Pangani  Manyara         250           True   \n",
       "3         263  Ruvuma / Southern Coast   Mtwara          58           True   \n",
       "4           0            Lake Victoria   Kagera           0           True   \n",
       "\n",
       "   construction_year extraction_type_class management         payment  \\\n",
       "0               1999               gravity        vwc    pay annually   \n",
       "1               2010               gravity        wug       never pay   \n",
       "2               2009               gravity        vwc  pay per bucket   \n",
       "3               1986           submersible        vwc       never pay   \n",
       "4                  0               gravity      other       never pay   \n",
       "\n",
       "  quality_group      quantity           source_type source_class  \\\n",
       "0          good        enough                spring  groundwater   \n",
       "1          good  insufficient  rainwater harvesting      surface   \n",
       "2          good        enough                   dam      surface   \n",
       "3          good           dry              borehole  groundwater   \n",
       "4          good      seasonal  rainwater harvesting      surface   \n",
       "\n",
       "               waterpoint_type    status_group  \n",
       "0           communal standpipe      functional  \n",
       "1           communal standpipe      functional  \n",
       "2  communal standpipe multiple      functional  \n",
       "3  communal standpipe multiple  non functional  \n",
       "4           communal standpipe      functional  "
      ]
     },
     "execution_count": 12,
     "metadata": {},
     "output_type": "execute_result"
    }
   ],
   "source": [
    "data_water.head()"
   ]
  },
  {
   "cell_type": "code",
   "execution_count": 13,
   "metadata": {},
   "outputs": [
    {
     "name": "stdout",
     "output_type": "stream",
     "text": [
      "gps_height                  0\n",
      "basin                       0\n",
      "region                      0\n",
      "population                  0\n",
      "public_meeting           3334\n",
      "construction_year           0\n",
      "extraction_type_class       0\n",
      "management                  0\n",
      "payment                     0\n",
      "quality_group               0\n",
      "quantity                    0\n",
      "source_type                 0\n",
      "source_class                0\n",
      "waterpoint_type             0\n",
      "status_group                0\n",
      "dtype: int64\n"
     ]
    }
   ],
   "source": [
    "print(data_water.isna().sum())"
   ]
  },
  {
   "cell_type": "code",
   "execution_count": 14,
   "metadata": {},
   "outputs": [
    {
     "data": {
      "text/plain": [
       "True     51011\n",
       "False     5055\n",
       "Name: public_meeting, dtype: int64"
      ]
     },
     "execution_count": 14,
     "metadata": {},
     "output_type": "execute_result"
    }
   ],
   "source": [
    "data_water['public_meeting'].value_counts()"
   ]
  },
  {
   "cell_type": "code",
   "execution_count": 15,
   "metadata": {},
   "outputs": [
    {
     "data": {
      "text/plain": [
       "array([True, nan, False], dtype=object)"
      ]
     },
     "execution_count": 15,
     "metadata": {},
     "output_type": "execute_result"
    }
   ],
   "source": [
    "data_water['public_meeting'].unique()"
   ]
  },
  {
   "cell_type": "code",
   "execution_count": 16,
   "metadata": {},
   "outputs": [],
   "source": [
    "data_water['public_meeting'].dropna(inplace= True)"
   ]
  },
  {
   "cell_type": "code",
   "execution_count": 17,
   "metadata": {},
   "outputs": [
    {
     "name": "stdout",
     "output_type": "stream",
     "text": [
      "False    56066\n",
      "Name: public_meeting, dtype: int64\n"
     ]
    }
   ],
   "source": [
    "print(data_water['public_meeting'].isna().value_counts())"
   ]
  },
  {
   "cell_type": "code",
   "execution_count": 18,
   "metadata": {},
   "outputs": [
    {
     "data": {
      "text/plain": [
       "True     51011\n",
       "False     5055\n",
       "Name: public_meeting, dtype: int64"
      ]
     },
     "execution_count": 18,
     "metadata": {},
     "output_type": "execute_result"
    }
   ],
   "source": [
    "data_water['public_meeting'].value_counts()"
   ]
  },
  {
   "cell_type": "code",
   "execution_count": 19,
   "metadata": {},
   "outputs": [],
   "source": [
    "data = encode_me('basin', data_water)\n",
    "\n",
    "data = encode_me('region', data)\n",
    "\n",
    "#data = encode_me('public_meeting', data)\n",
    "\n",
    "data = encode_me('extraction_type_class', data)\n",
    "\n",
    "data = encode_me('management', data)\n",
    "\n",
    "data = encode_me('payment', data)\n",
    "\n",
    "data = encode_me('quality_group', data)\n",
    "\n",
    "data = encode_me('quantity', data)\n",
    "\n",
    "data = encode_me('source_type', data)\n",
    "\n",
    "data = encode_me('source_class', data)\n",
    "\n",
    "data = encode_me('waterpoint_type', data)"
   ]
  },
  {
   "cell_type": "code",
   "execution_count": 20,
   "metadata": {},
   "outputs": [],
   "source": [
    "#list comprehensions\n",
    "\n",
    "#essentially running a for loop to generate a list, but \"under the hood\" python implements faster\n",
    "#also the code is shorter / cleaner\n",
    "\n",
    "throwaway = [1,2,3,4,5]\n",
    "\n",
    "throaway2 = [value/7 if value==4 else 0 for value in throwaway]\n",
    "\n"
   ]
  },
  {
   "cell_type": "code",
   "execution_count": 21,
   "metadata": {},
   "outputs": [
    {
     "data": {
      "text/plain": [
       "1    51011\n",
       "0     8389\n",
       "Name: public_meeting, dtype: int64"
      ]
     },
     "execution_count": 21,
     "metadata": {},
     "output_type": "execute_result"
    }
   ],
   "source": [
    "data['public_meeting'] = [1 if x==True else 0 for x in data['public_meeting']]\n",
    "data['public_meeting'].value_counts()"
   ]
  },
  {
   "cell_type": "code",
   "execution_count": 22,
   "metadata": {},
   "outputs": [
    {
     "data": {
      "text/plain": [
       "Index(['gps_height', 'population', 'public_meeting', 'construction_year',\n",
       "       'status_group', 'basin_Lake Nyasa', 'basin_Lake Rukwa',\n",
       "       'basin_Lake Tanganyika', 'basin_Lake Victoria', 'basin_Pangani',\n",
       "       'basin_Rufiji', 'basin_Ruvuma / Southern Coast', 'basin_Wami / Ruvu',\n",
       "       'region_Dar es Salaam', 'region_Dodoma', 'region_Iringa',\n",
       "       'region_Kagera', 'region_Kigoma', 'region_Kilimanjaro', 'region_Lindi',\n",
       "       'region_Manyara', 'region_Mara', 'region_Mbeya', 'region_Morogoro',\n",
       "       'region_Mtwara', 'region_Mwanza', 'region_Pwani', 'region_Rukwa',\n",
       "       'region_Ruvuma', 'region_Shinyanga', 'region_Singida', 'region_Tabora',\n",
       "       'region_Tanga', 'extraction_type_class_handpump',\n",
       "       'extraction_type_class_motorpump', 'extraction_type_class_other',\n",
       "       'extraction_type_class_rope pump', 'extraction_type_class_submersible',\n",
       "       'extraction_type_class_wind-powered', 'management_other',\n",
       "       'management_other - school', 'management_parastatal',\n",
       "       'management_private operator', 'management_trust', 'management_unknown',\n",
       "       'management_vwc', 'management_water authority',\n",
       "       'management_water board', 'management_wua', 'management_wug',\n",
       "       'payment_other', 'payment_pay annually', 'payment_pay monthly',\n",
       "       'payment_pay per bucket', 'payment_pay when scheme fails',\n",
       "       'payment_unknown', 'quality_group_fluoride', 'quality_group_good',\n",
       "       'quality_group_milky', 'quality_group_salty', 'quality_group_unknown',\n",
       "       'quantity_enough', 'quantity_insufficient', 'quantity_seasonal',\n",
       "       'quantity_unknown', 'source_type_dam', 'source_type_other',\n",
       "       'source_type_rainwater harvesting', 'source_type_river/lake',\n",
       "       'source_type_shallow well', 'source_type_spring',\n",
       "       'source_class_surface', 'source_class_unknown',\n",
       "       'waterpoint_type_communal standpipe',\n",
       "       'waterpoint_type_communal standpipe multiple', 'waterpoint_type_dam',\n",
       "       'waterpoint_type_hand pump', 'waterpoint_type_improved spring',\n",
       "       'waterpoint_type_other'],\n",
       "      dtype='object')"
      ]
     },
     "execution_count": 22,
     "metadata": {},
     "output_type": "execute_result"
    }
   ],
   "source": [
    "data.keys()"
   ]
  },
  {
   "cell_type": "markdown",
   "metadata": {},
   "source": [
    "## Train Test Split"
   ]
  },
  {
   "cell_type": "code",
   "execution_count": 23,
   "metadata": {},
   "outputs": [
    {
     "data": {
      "text/html": [
       "<div>\n",
       "<style scoped>\n",
       "    .dataframe tbody tr th:only-of-type {\n",
       "        vertical-align: middle;\n",
       "    }\n",
       "\n",
       "    .dataframe tbody tr th {\n",
       "        vertical-align: top;\n",
       "    }\n",
       "\n",
       "    .dataframe thead th {\n",
       "        text-align: right;\n",
       "    }\n",
       "</style>\n",
       "<table border=\"1\" class=\"dataframe\">\n",
       "  <thead>\n",
       "    <tr style=\"text-align: right;\">\n",
       "      <th></th>\n",
       "      <th>gps_height</th>\n",
       "      <th>population</th>\n",
       "      <th>construction_year</th>\n",
       "      <th>basin_Lake Nyasa</th>\n",
       "      <th>basin_Lake Rukwa</th>\n",
       "      <th>basin_Lake Tanganyika</th>\n",
       "      <th>basin_Lake Victoria</th>\n",
       "      <th>basin_Pangani</th>\n",
       "      <th>basin_Rufiji</th>\n",
       "      <th>basin_Ruvuma / Southern Coast</th>\n",
       "      <th>...</th>\n",
       "      <th>source_type_shallow well</th>\n",
       "      <th>source_type_spring</th>\n",
       "      <th>source_class_surface</th>\n",
       "      <th>source_class_unknown</th>\n",
       "      <th>waterpoint_type_communal standpipe</th>\n",
       "      <th>waterpoint_type_communal standpipe multiple</th>\n",
       "      <th>waterpoint_type_dam</th>\n",
       "      <th>waterpoint_type_hand pump</th>\n",
       "      <th>waterpoint_type_improved spring</th>\n",
       "      <th>waterpoint_type_other</th>\n",
       "    </tr>\n",
       "  </thead>\n",
       "  <tbody>\n",
       "    <tr>\n",
       "      <td>0</td>\n",
       "      <td>1390</td>\n",
       "      <td>109</td>\n",
       "      <td>1999</td>\n",
       "      <td>1</td>\n",
       "      <td>0</td>\n",
       "      <td>0</td>\n",
       "      <td>0</td>\n",
       "      <td>0</td>\n",
       "      <td>0</td>\n",
       "      <td>0</td>\n",
       "      <td>...</td>\n",
       "      <td>0</td>\n",
       "      <td>1</td>\n",
       "      <td>0</td>\n",
       "      <td>0</td>\n",
       "      <td>1</td>\n",
       "      <td>0</td>\n",
       "      <td>0</td>\n",
       "      <td>0</td>\n",
       "      <td>0</td>\n",
       "      <td>0</td>\n",
       "    </tr>\n",
       "    <tr>\n",
       "      <td>1</td>\n",
       "      <td>1399</td>\n",
       "      <td>280</td>\n",
       "      <td>2010</td>\n",
       "      <td>0</td>\n",
       "      <td>0</td>\n",
       "      <td>0</td>\n",
       "      <td>1</td>\n",
       "      <td>0</td>\n",
       "      <td>0</td>\n",
       "      <td>0</td>\n",
       "      <td>...</td>\n",
       "      <td>0</td>\n",
       "      <td>0</td>\n",
       "      <td>1</td>\n",
       "      <td>0</td>\n",
       "      <td>1</td>\n",
       "      <td>0</td>\n",
       "      <td>0</td>\n",
       "      <td>0</td>\n",
       "      <td>0</td>\n",
       "      <td>0</td>\n",
       "    </tr>\n",
       "    <tr>\n",
       "      <td>2</td>\n",
       "      <td>686</td>\n",
       "      <td>250</td>\n",
       "      <td>2009</td>\n",
       "      <td>0</td>\n",
       "      <td>0</td>\n",
       "      <td>0</td>\n",
       "      <td>0</td>\n",
       "      <td>1</td>\n",
       "      <td>0</td>\n",
       "      <td>0</td>\n",
       "      <td>...</td>\n",
       "      <td>0</td>\n",
       "      <td>0</td>\n",
       "      <td>1</td>\n",
       "      <td>0</td>\n",
       "      <td>0</td>\n",
       "      <td>1</td>\n",
       "      <td>0</td>\n",
       "      <td>0</td>\n",
       "      <td>0</td>\n",
       "      <td>0</td>\n",
       "    </tr>\n",
       "    <tr>\n",
       "      <td>3</td>\n",
       "      <td>263</td>\n",
       "      <td>58</td>\n",
       "      <td>1986</td>\n",
       "      <td>0</td>\n",
       "      <td>0</td>\n",
       "      <td>0</td>\n",
       "      <td>0</td>\n",
       "      <td>0</td>\n",
       "      <td>0</td>\n",
       "      <td>1</td>\n",
       "      <td>...</td>\n",
       "      <td>0</td>\n",
       "      <td>0</td>\n",
       "      <td>0</td>\n",
       "      <td>0</td>\n",
       "      <td>0</td>\n",
       "      <td>1</td>\n",
       "      <td>0</td>\n",
       "      <td>0</td>\n",
       "      <td>0</td>\n",
       "      <td>0</td>\n",
       "    </tr>\n",
       "    <tr>\n",
       "      <td>4</td>\n",
       "      <td>0</td>\n",
       "      <td>0</td>\n",
       "      <td>0</td>\n",
       "      <td>0</td>\n",
       "      <td>0</td>\n",
       "      <td>0</td>\n",
       "      <td>1</td>\n",
       "      <td>0</td>\n",
       "      <td>0</td>\n",
       "      <td>0</td>\n",
       "      <td>...</td>\n",
       "      <td>0</td>\n",
       "      <td>0</td>\n",
       "      <td>1</td>\n",
       "      <td>0</td>\n",
       "      <td>1</td>\n",
       "      <td>0</td>\n",
       "      <td>0</td>\n",
       "      <td>0</td>\n",
       "      <td>0</td>\n",
       "      <td>0</td>\n",
       "    </tr>\n",
       "    <tr>\n",
       "      <td>...</td>\n",
       "      <td>...</td>\n",
       "      <td>...</td>\n",
       "      <td>...</td>\n",
       "      <td>...</td>\n",
       "      <td>...</td>\n",
       "      <td>...</td>\n",
       "      <td>...</td>\n",
       "      <td>...</td>\n",
       "      <td>...</td>\n",
       "      <td>...</td>\n",
       "      <td>...</td>\n",
       "      <td>...</td>\n",
       "      <td>...</td>\n",
       "      <td>...</td>\n",
       "      <td>...</td>\n",
       "      <td>...</td>\n",
       "      <td>...</td>\n",
       "      <td>...</td>\n",
       "      <td>...</td>\n",
       "      <td>...</td>\n",
       "      <td>...</td>\n",
       "    </tr>\n",
       "    <tr>\n",
       "      <td>59395</td>\n",
       "      <td>1210</td>\n",
       "      <td>125</td>\n",
       "      <td>1999</td>\n",
       "      <td>0</td>\n",
       "      <td>0</td>\n",
       "      <td>0</td>\n",
       "      <td>0</td>\n",
       "      <td>1</td>\n",
       "      <td>0</td>\n",
       "      <td>0</td>\n",
       "      <td>...</td>\n",
       "      <td>0</td>\n",
       "      <td>1</td>\n",
       "      <td>0</td>\n",
       "      <td>0</td>\n",
       "      <td>1</td>\n",
       "      <td>0</td>\n",
       "      <td>0</td>\n",
       "      <td>0</td>\n",
       "      <td>0</td>\n",
       "      <td>0</td>\n",
       "    </tr>\n",
       "    <tr>\n",
       "      <td>59396</td>\n",
       "      <td>1212</td>\n",
       "      <td>56</td>\n",
       "      <td>1996</td>\n",
       "      <td>0</td>\n",
       "      <td>0</td>\n",
       "      <td>0</td>\n",
       "      <td>0</td>\n",
       "      <td>0</td>\n",
       "      <td>1</td>\n",
       "      <td>0</td>\n",
       "      <td>...</td>\n",
       "      <td>0</td>\n",
       "      <td>0</td>\n",
       "      <td>1</td>\n",
       "      <td>0</td>\n",
       "      <td>1</td>\n",
       "      <td>0</td>\n",
       "      <td>0</td>\n",
       "      <td>0</td>\n",
       "      <td>0</td>\n",
       "      <td>0</td>\n",
       "    </tr>\n",
       "    <tr>\n",
       "      <td>59397</td>\n",
       "      <td>0</td>\n",
       "      <td>0</td>\n",
       "      <td>0</td>\n",
       "      <td>0</td>\n",
       "      <td>0</td>\n",
       "      <td>0</td>\n",
       "      <td>0</td>\n",
       "      <td>0</td>\n",
       "      <td>1</td>\n",
       "      <td>0</td>\n",
       "      <td>...</td>\n",
       "      <td>0</td>\n",
       "      <td>0</td>\n",
       "      <td>0</td>\n",
       "      <td>0</td>\n",
       "      <td>0</td>\n",
       "      <td>0</td>\n",
       "      <td>0</td>\n",
       "      <td>1</td>\n",
       "      <td>0</td>\n",
       "      <td>0</td>\n",
       "    </tr>\n",
       "    <tr>\n",
       "      <td>59398</td>\n",
       "      <td>0</td>\n",
       "      <td>0</td>\n",
       "      <td>0</td>\n",
       "      <td>0</td>\n",
       "      <td>0</td>\n",
       "      <td>0</td>\n",
       "      <td>0</td>\n",
       "      <td>0</td>\n",
       "      <td>1</td>\n",
       "      <td>0</td>\n",
       "      <td>...</td>\n",
       "      <td>1</td>\n",
       "      <td>0</td>\n",
       "      <td>0</td>\n",
       "      <td>0</td>\n",
       "      <td>0</td>\n",
       "      <td>0</td>\n",
       "      <td>0</td>\n",
       "      <td>1</td>\n",
       "      <td>0</td>\n",
       "      <td>0</td>\n",
       "    </tr>\n",
       "    <tr>\n",
       "      <td>59399</td>\n",
       "      <td>191</td>\n",
       "      <td>150</td>\n",
       "      <td>2002</td>\n",
       "      <td>0</td>\n",
       "      <td>0</td>\n",
       "      <td>0</td>\n",
       "      <td>0</td>\n",
       "      <td>0</td>\n",
       "      <td>0</td>\n",
       "      <td>0</td>\n",
       "      <td>...</td>\n",
       "      <td>1</td>\n",
       "      <td>0</td>\n",
       "      <td>0</td>\n",
       "      <td>0</td>\n",
       "      <td>0</td>\n",
       "      <td>0</td>\n",
       "      <td>0</td>\n",
       "      <td>1</td>\n",
       "      <td>0</td>\n",
       "      <td>0</td>\n",
       "    </tr>\n",
       "  </tbody>\n",
       "</table>\n",
       "<p>59400 rows × 77 columns</p>\n",
       "</div>"
      ],
      "text/plain": [
       "       gps_height  population  construction_year  basin_Lake Nyasa  \\\n",
       "0            1390         109               1999                 1   \n",
       "1            1399         280               2010                 0   \n",
       "2             686         250               2009                 0   \n",
       "3             263          58               1986                 0   \n",
       "4               0           0                  0                 0   \n",
       "...           ...         ...                ...               ...   \n",
       "59395        1210         125               1999                 0   \n",
       "59396        1212          56               1996                 0   \n",
       "59397           0           0                  0                 0   \n",
       "59398           0           0                  0                 0   \n",
       "59399         191         150               2002                 0   \n",
       "\n",
       "       basin_Lake Rukwa  basin_Lake Tanganyika  basin_Lake Victoria  \\\n",
       "0                     0                      0                    0   \n",
       "1                     0                      0                    1   \n",
       "2                     0                      0                    0   \n",
       "3                     0                      0                    0   \n",
       "4                     0                      0                    1   \n",
       "...                 ...                    ...                  ...   \n",
       "59395                 0                      0                    0   \n",
       "59396                 0                      0                    0   \n",
       "59397                 0                      0                    0   \n",
       "59398                 0                      0                    0   \n",
       "59399                 0                      0                    0   \n",
       "\n",
       "       basin_Pangani  basin_Rufiji  basin_Ruvuma / Southern Coast  ...  \\\n",
       "0                  0             0                              0  ...   \n",
       "1                  0             0                              0  ...   \n",
       "2                  1             0                              0  ...   \n",
       "3                  0             0                              1  ...   \n",
       "4                  0             0                              0  ...   \n",
       "...              ...           ...                            ...  ...   \n",
       "59395              1             0                              0  ...   \n",
       "59396              0             1                              0  ...   \n",
       "59397              0             1                              0  ...   \n",
       "59398              0             1                              0  ...   \n",
       "59399              0             0                              0  ...   \n",
       "\n",
       "       source_type_shallow well  source_type_spring  source_class_surface  \\\n",
       "0                             0                   1                     0   \n",
       "1                             0                   0                     1   \n",
       "2                             0                   0                     1   \n",
       "3                             0                   0                     0   \n",
       "4                             0                   0                     1   \n",
       "...                         ...                 ...                   ...   \n",
       "59395                         0                   1                     0   \n",
       "59396                         0                   0                     1   \n",
       "59397                         0                   0                     0   \n",
       "59398                         1                   0                     0   \n",
       "59399                         1                   0                     0   \n",
       "\n",
       "       source_class_unknown  waterpoint_type_communal standpipe  \\\n",
       "0                         0                                   1   \n",
       "1                         0                                   1   \n",
       "2                         0                                   0   \n",
       "3                         0                                   0   \n",
       "4                         0                                   1   \n",
       "...                     ...                                 ...   \n",
       "59395                     0                                   1   \n",
       "59396                     0                                   1   \n",
       "59397                     0                                   0   \n",
       "59398                     0                                   0   \n",
       "59399                     0                                   0   \n",
       "\n",
       "       waterpoint_type_communal standpipe multiple  waterpoint_type_dam  \\\n",
       "0                                                0                    0   \n",
       "1                                                0                    0   \n",
       "2                                                1                    0   \n",
       "3                                                1                    0   \n",
       "4                                                0                    0   \n",
       "...                                            ...                  ...   \n",
       "59395                                            0                    0   \n",
       "59396                                            0                    0   \n",
       "59397                                            0                    0   \n",
       "59398                                            0                    0   \n",
       "59399                                            0                    0   \n",
       "\n",
       "       waterpoint_type_hand pump  waterpoint_type_improved spring  \\\n",
       "0                              0                                0   \n",
       "1                              0                                0   \n",
       "2                              0                                0   \n",
       "3                              0                                0   \n",
       "4                              0                                0   \n",
       "...                          ...                              ...   \n",
       "59395                          0                                0   \n",
       "59396                          0                                0   \n",
       "59397                          1                                0   \n",
       "59398                          1                                0   \n",
       "59399                          1                                0   \n",
       "\n",
       "       waterpoint_type_other  \n",
       "0                          0  \n",
       "1                          0  \n",
       "2                          0  \n",
       "3                          0  \n",
       "4                          0  \n",
       "...                      ...  \n",
       "59395                      0  \n",
       "59396                      0  \n",
       "59397                      0  \n",
       "59398                      0  \n",
       "59399                      0  \n",
       "\n",
       "[59400 rows x 77 columns]"
      ]
     },
     "execution_count": 23,
     "metadata": {},
     "output_type": "execute_result"
    }
   ],
   "source": [
    "data_X = data[['gps_height', 'population', 'construction_year', 'status_group',\n",
    "       'basin_Lake Nyasa', 'basin_Lake Rukwa', 'basin_Lake Tanganyika',\n",
    "       'basin_Lake Victoria', 'basin_Pangani', 'basin_Rufiji',\n",
    "       'basin_Ruvuma / Southern Coast', 'basin_Wami / Ruvu',\n",
    "       'region_Dar es Salaam', 'region_Dodoma', 'region_Iringa',\n",
    "       'region_Kagera', 'region_Kigoma', 'region_Kilimanjaro', 'region_Lindi',\n",
    "       'region_Manyara', 'region_Mara', 'region_Mbeya', 'region_Morogoro',\n",
    "       'region_Mtwara', 'region_Mwanza', 'region_Pwani', 'region_Rukwa',\n",
    "       'region_Ruvuma', 'region_Shinyanga', 'region_Singida', 'region_Tabora',\n",
    "       'region_Tanga', 'extraction_type_class_handpump',\n",
    "       'extraction_type_class_motorpump', 'extraction_type_class_other',\n",
    "       'extraction_type_class_rope pump', 'extraction_type_class_submersible',\n",
    "       'extraction_type_class_wind-powered', 'management_other',\n",
    "       'management_other - school', 'management_parastatal',\n",
    "       'management_private operator', 'management_trust', 'management_unknown',\n",
    "       'management_vwc', 'management_water authority',\n",
    "       'management_water board', 'management_wua', 'management_wug',\n",
    "       'payment_other', 'payment_pay annually', 'payment_pay monthly',\n",
    "       'payment_pay per bucket', 'payment_pay when scheme fails',\n",
    "       'payment_unknown', 'quality_group_fluoride', 'quality_group_good',\n",
    "       'quality_group_milky', 'quality_group_salty', 'quality_group_unknown',\n",
    "       'quantity_enough', 'quantity_insufficient', 'quantity_seasonal',\n",
    "       'quantity_unknown', 'source_type_dam', 'source_type_other',\n",
    "       'source_type_rainwater harvesting', 'source_type_river/lake',\n",
    "       'source_type_shallow well', 'source_type_spring',\n",
    "       'source_class_surface', 'source_class_unknown',\n",
    "       'waterpoint_type_communal standpipe',\n",
    "       'waterpoint_type_communal standpipe multiple', 'waterpoint_type_dam',\n",
    "       'waterpoint_type_hand pump', 'waterpoint_type_improved spring',\n",
    "       'waterpoint_type_other']]\n",
    "\n",
    "data_X_pred = data_X.drop(columns='status_group')\n",
    "data_X_pred"
   ]
  },
  {
   "cell_type": "code",
   "execution_count": 24,
   "metadata": {},
   "outputs": [
    {
     "name": "stdout",
     "output_type": "stream",
     "text": [
      "47520 11880 47520 11880\n"
     ]
    }
   ],
   "source": [
    "X= data_X_pred\n",
    "y= data_X['status_group']\n",
    "X_train, X_test, y_train, y_test = train_test_split(X, y, test_size=0.2, random_state=42)\n",
    "\n",
    "print(len(X_train), len(X_test), len(y_train), len(y_test))\n",
    "\n",
    "\n"
   ]
  },
  {
   "cell_type": "markdown",
   "metadata": {},
   "source": [
    "## Removal of outliers"
   ]
  },
  {
   "cell_type": "code",
   "execution_count": 25,
   "metadata": {},
   "outputs": [
    {
     "data": {
      "text/plain": [
       "(array([ 1,  2,  3,  4,  5,  6,  7,  8,  9, 10, 11, 12, 13, 14, 15, 16, 17,\n",
       "        18, 19, 20, 21, 22, 23, 24, 25, 26, 27, 28, 29, 30, 31, 32, 33, 34,\n",
       "        35, 36, 37, 38, 39, 40, 41, 42, 43, 44, 45, 46, 47, 48, 49, 50, 51,\n",
       "        52, 53, 54, 55, 56, 57, 58, 59, 60, 61, 62, 63, 64, 65, 66, 67, 68,\n",
       "        69, 70, 71, 72, 73, 74, 75, 76, 77]),\n",
       " <a list of 77 Text xticklabel objects>)"
      ]
     },
     "execution_count": 25,
     "metadata": {},
     "output_type": "execute_result"
    },
    {
     "data": {
      "image/png": "[encoded data removed]",
      "text/plain": [
       "<Figure size 432x288 with 1 Axes>"
      ]
     },
     "metadata": {
      "needs_background": "light"
     },
     "output_type": "display_data"
    }
   ],
   "source": [
    "data_X_pred.boxplot()\n",
    "plt.xticks(rotation=45)"
   ]
  },
  {
   "cell_type": "code",
   "execution_count": 26,
   "metadata": {},
   "outputs": [
    {
     "data": {
      "text/plain": [
       "<matplotlib.axes._subplots.AxesSubplot at 0x24d9633e248>"
      ]
     },
     "execution_count": 26,
     "metadata": {},
     "output_type": "execute_result"
    },
    {
     "data": {
      "image/png": "[encoded data removed]",
      "text/plain": [
       "<Figure size 432x288 with 1 Axes>"
      ]
     },
     "metadata": {
      "needs_background": "light"
     },
     "output_type": "display_data"
    }
   ],
   "source": [
    "data_X_pred['population'] = data_X_pred.loc[data_X_pred['population']<5000]\n",
    "data_X_pred.boxplot()"
   ]
  },
  {
   "cell_type": "code",
   "execution_count": 27,
   "metadata": {},
   "outputs": [
    {
     "data": {
      "text/plain": [
       "<matplotlib.axes._subplots.AxesSubplot at 0x24d981564c8>"
      ]
     },
     "execution_count": 27,
     "metadata": {},
     "output_type": "execute_result"
    },
    {
     "data": {
      "image/png": "[encoded data removed]",
      "text/plain": [
       "<Figure size 432x288 with 1 Axes>"
      ]
     },
     "metadata": {
      "needs_background": "light"
     },
     "output_type": "display_data"
    }
   ],
   "source": [
    "ss = StandardScaler()\n",
    "column_names = data_X_pred.columns\n",
    "data_X_pred = pd.DataFrame(ss.fit_transform(data_X_pred))\n",
    "data_X_pred.columns = column_names\n",
    "data_X_pred.boxplot()"
   ]
  },
  {
   "cell_type": "code",
   "execution_count": 28,
   "metadata": {},
   "outputs": [
    {
     "data": {
      "text/plain": [
       "<matplotlib.axes._subplots.AxesSubplot at 0x24d98a16c48>"
      ]
     },
     "execution_count": 28,
     "metadata": {},
     "output_type": "execute_result"
    },
    {
     "data": {
      "image/png": "[encoded data removed]",
      "text/plain": [
       "<Figure size 432x288 with 1 Axes>"
      ]
     },
     "metadata": {
      "needs_background": "light"
     },
     "output_type": "display_data"
    }
   ],
   "source": [
    "data_X_pred['waterpoint_type_dam'] = data_X_pred.loc[data_X_pred['waterpoint_type_dam']<80]\n",
    "data_X_pred.boxplot()"
   ]
  },
  {
   "cell_type": "code",
   "execution_count": 29,
   "metadata": {},
   "outputs": [
    {
     "data": {
      "text/plain": [
       "<matplotlib.axes._subplots.AxesSubplot at 0x24da05338c8>"
      ]
     },
     "execution_count": 29,
     "metadata": {},
     "output_type": "execute_result"
    },
    {
     "data": {
      "image/png": "[encoded data removed]",
      "text/plain": [
       "<Figure size 432x288 with 1 Axes>"
      ]
     },
     "metadata": {
      "needs_background": "light"
     },
     "output_type": "display_data"
    }
   ],
   "source": [
    "for x in data_X_pred:\n",
    "    data_X_pred = data_X_pred.loc[data_X_pred[x]<4]\n",
    "    \n",
    "data_X_pred.boxplot()"
   ]
  },
  {
   "cell_type": "code",
   "execution_count": 30,
   "metadata": {},
   "outputs": [
    {
     "data": {
      "text/plain": [
       "<matplotlib.axes._subplots.AxesSubplot at 0x24d94e04cc8>"
      ]
     },
     "execution_count": 30,
     "metadata": {},
     "output_type": "execute_result"
    },
    {
     "data": {
      "image/png": "[encoded data removed]",
      "text/plain": [
       "<Figure size 432x288 with 1 Axes>"
      ]
     },
     "metadata": {
      "needs_background": "light"
     },
     "output_type": "display_data"
    }
   ],
   "source": [
    "for x in data_X_pred:\n",
    "    data_X_pred = data_X_pred.loc[data_X_pred[x]<3]\n",
    "    \n",
    "data_X_pred.boxplot()"
   ]
  },
  {
   "cell_type": "code",
   "execution_count": 31,
   "metadata": {},
   "outputs": [
    {
     "data": {
      "text/plain": [
       "<matplotlib.axes._subplots.AxesSubplot at 0x24d9a80d7c8>"
      ]
     },
     "execution_count": 31,
     "metadata": {},
     "output_type": "execute_result"
    },
    {
     "data": {
      "image/png": "[encoded data removed]",
      "text/plain": [
       "<Figure size 432x288 with 1 Axes>"
      ]
     },
     "metadata": {
      "needs_background": "light"
     },
     "output_type": "display_data"
    }
   ],
   "source": [
    "for x in data_X_pred:\n",
    "    data_X_pred = data_X_pred.loc[data_X_pred[x]<2.1]\n",
    "    \n",
    "data_X_pred.boxplot()"
   ]
  },
  {
   "cell_type": "markdown",
   "metadata": {},
   "source": [
    "# Naive Bays"
   ]
  },
  {
   "cell_type": "code",
   "execution_count": 32,
   "metadata": {},
   "outputs": [
    {
     "data": {
      "text/plain": [
       "GaussianNB(priors=None, var_smoothing=1e-09)"
      ]
     },
     "execution_count": 32,
     "metadata": {},
     "output_type": "execute_result"
    }
   ],
   "source": [
    "nb = GaussianNB()\n",
    "nb.fit(X_train,y_train)\n"
   ]
  },
  {
   "cell_type": "markdown",
   "metadata": {},
   "source": [
    "# Random Forest Classifier"
   ]
  },
  {
   "cell_type": "code",
   "execution_count": 33,
   "metadata": {},
   "outputs": [
    {
     "name": "stderr",
     "output_type": "stream",
     "text": [
      "C:\\Users\\artur\\Anaconda3\\lib\\site-packages\\sklearn\\ensemble\\forest.py:245: FutureWarning: The default value of n_estimators will change from 10 in version 0.20 to 100 in 0.22.\n",
      "  \"10 in version 0.20 to 100 in 0.22.\", FutureWarning)\n"
     ]
    },
    {
     "data": {
      "text/plain": [
       "RandomForestClassifier(bootstrap=True, class_weight=None, criterion='gini',\n",
       "                       max_depth=None, max_features='auto', max_leaf_nodes=None,\n",
       "                       min_impurity_decrease=0.0, min_impurity_split=None,\n",
       "                       min_samples_leaf=1, min_samples_split=2,\n",
       "                       min_weight_fraction_leaf=0.0, n_estimators=10,\n",
       "                       n_jobs=None, oob_score=False, random_state=42, verbose=0,\n",
       "                       warm_start=False)"
      ]
     },
     "execution_count": 33,
     "metadata": {},
     "output_type": "execute_result"
    }
   ],
   "source": [
    "rfc = RandomForestClassifier(random_state = 42)\n",
    "rfc.fit(X_train, y_train)"
   ]
  },
  {
   "cell_type": "code",
   "execution_count": 82,
   "metadata": {},
   "outputs": [
    {
     "data": {
      "text/plain": [
       "'0.7724747474747474'"
      ]
     },
     "execution_count": 82,
     "metadata": {},
     "output_type": "execute_result"
    }
   ],
   "source": [
    "rfc_X_test = rfc.predict(X_test)\n",
    "accuracy_rfc = str(metrics.accuracy_score(y_test, rfc_X_test))\n",
    "accuracy_rfc"
   ]
  },
  {
   "cell_type": "code",
   "execution_count": 68,
   "metadata": {},
   "outputs": [
    {
     "data": {
      "text/plain": [
       "array([1.82024832e-01, 1.07590373e-01, 1.09608535e-01, 6.30153671e-03,\n",
       "       5.43696387e-03, 9.08681541e-03, 9.85226368e-03, 6.41704997e-03,\n",
       "       7.78864732e-03, 5.06490152e-03, 6.61606504e-03, 1.28534466e-03,\n",
       "       3.69360116e-03, 9.66124719e-03, 3.65152763e-03, 4.16334821e-03,\n",
       "       5.99836719e-03, 2.44618772e-03, 3.77523097e-03, 3.46437581e-03,\n",
       "       3.23873047e-03, 3.68413832e-03, 2.90053225e-03, 4.37758606e-03,\n",
       "       3.90329516e-03, 3.21527684e-03, 4.02591369e-03, 5.64684185e-03,\n",
       "       4.23231079e-03, 3.03115601e-03, 3.73357083e-03, 1.05976771e-02,\n",
       "       5.99205100e-03, 3.39608033e-02, 1.61444078e-03, 1.17818227e-02,\n",
       "       6.43198680e-04, 2.29251822e-03, 4.34722874e-04, 4.37421336e-03,\n",
       "       4.51260402e-03, 4.49322528e-04, 1.76072775e-03, 1.47772698e-02,\n",
       "       2.84990732e-03, 4.95921455e-03, 3.97391303e-03, 5.15338993e-03,\n",
       "       2.69854999e-03, 1.04499405e-02, 1.45106740e-02, 1.80077817e-02,\n",
       "       9.64549225e-03, 1.37056904e-02, 1.05483765e-03, 1.25164981e-02,\n",
       "       1.99077309e-03, 6.89564140e-03, 7.47429149e-03, 5.32324716e-02,\n",
       "       4.11537108e-02, 1.93106973e-02, 2.83748572e-03, 2.86350378e-03,\n",
       "       9.56468639e-04, 5.75556853e-03, 8.27061140e-03, 1.48068941e-02,\n",
       "       1.24068267e-02, 1.02063577e-02, 8.64682302e-04, 1.46231430e-02,\n",
       "       1.27114024e-02, 5.93540043e-05, 9.02678215e-03, 2.83278687e-03,\n",
       "       4.30867192e-02])"
      ]
     },
     "execution_count": 68,
     "metadata": {},
     "output_type": "execute_result"
    }
   ],
   "source": [
    "rfc.feature_importances_\n"
   ]
  },
  {
   "cell_type": "code",
   "execution_count": 35,
   "metadata": {},
   "outputs": [
    {
     "data": {
      "text/plain": [
       "[(5.935400434505762e-05, 'waterpoint_type_communal standpipe'),\n",
       " (0.00043472287442864794, 'extraction_type_class_wind-powered'),\n",
       " (0.0004493225278132377, 'management_parastatal'),\n",
       " (0.0006431986803700422, 'extraction_type_class_rope pump'),\n",
       " (0.0008646823019111656, 'source_type_spring'),\n",
       " (0.0009564686388217819, 'quantity_unknown'),\n",
       " (0.0010548376480234442, 'payment_pay when scheme fails'),\n",
       " (0.0012853446592560902, 'basin_Ruvuma / Southern Coast'),\n",
       " (0.0016144407844546258, 'extraction_type_class_motorpump'),\n",
       " (0.0017607277486863023, 'management_private operator'),\n",
       " (0.0019907730881214055, 'quality_group_fluoride'),\n",
       " (0.0022925182187819304, 'extraction_type_class_submersible'),\n",
       " (0.0024461877181595334, 'region_Kigoma'),\n",
       " (0.002698549992255974, 'management_wua'),\n",
       " (0.002832786869799565, 'waterpoint_type_dam'),\n",
       " (0.0028374857224152113, 'quantity_insufficient'),\n",
       " (0.002849907319966586, 'management_unknown'),\n",
       " (0.002863503783167161, 'quantity_seasonal'),\n",
       " (0.00290053225125414, 'region_Mbeya'),\n",
       " (0.0030311560119399327, 'region_Shinyanga'),\n",
       " (0.0032152768448003395, 'region_Mwanza'),\n",
       " (0.0032387304671901247, 'region_Manyara'),\n",
       " (0.003464375810691292, 'region_Lindi'),\n",
       " (0.0036515276293727335, 'region_Dodoma'),\n",
       " (0.0036841383233057736, 'region_Mara'),\n",
       " (0.0036936011613368817, 'basin_Wami / Ruvu'),\n",
       " (0.0037335708276398697, 'region_Singida'),\n",
       " (0.0037752309650625425, 'region_Kilimanjaro'),\n",
       " (0.00390329516444688, 'region_Mtwara'),\n",
       " (0.003973913025970959, 'management_water authority'),\n",
       " (0.004025913693837308, 'region_Pwani'),\n",
       " (0.004163348209302574, 'region_Iringa'),\n",
       " (0.004232310790285847, 'region_Ruvuma'),\n",
       " (0.004374213361110719, 'management_other'),\n",
       " (0.004377586061338002, 'region_Morogoro'),\n",
       " (0.004512604021872462, 'management_other - school'),\n",
       " (0.0049592145477074705, 'management_vwc'),\n",
       " (0.005064901523660953, 'basin_Pangani'),\n",
       " (0.005153389929675833, 'management_water board'),\n",
       " (0.0054369638680298645, 'status_group'),\n",
       " (0.005646841851236244, 'region_Rukwa'),\n",
       " (0.005755568526206058, 'source_type_dam'),\n",
       " (0.005992051002499708, 'region_Tanga'),\n",
       " (0.005998367185558056, 'region_Kagera'),\n",
       " (0.006301536714584935, 'construction_year'),\n",
       " (0.006417049969904132, 'basin_Lake Tanganyika'),\n",
       " (0.006616065035994064, 'basin_Rufiji'),\n",
       " (0.0068956413952787395, 'quality_group_good'),\n",
       " (0.0074742914868961546, 'quality_group_milky'),\n",
       " (0.007788647317123668, 'basin_Lake Victoria'),\n",
       " (0.008270611402313756, 'source_type_other'),\n",
       " (0.009026782151360246, 'waterpoint_type_communal standpipe multiple'),\n",
       " (0.009086815409308467, 'basin_Lake Nyasa'),\n",
       " (0.009645492245294308, 'payment_pay monthly'),\n",
       " (0.0096612471948388, 'region_Dar es Salaam'),\n",
       " (0.009852263678239532, 'basin_Lake Rukwa'),\n",
       " (0.010206357650942677, 'source_type_shallow well'),\n",
       " (0.010449940502234299, 'management_wug'),\n",
       " (0.010597677129698656, 'region_Tabora'),\n",
       " (0.011781822748675624, 'extraction_type_class_other'),\n",
       " (0.012406826699209245, 'source_type_river/lake'),\n",
       " (0.012516498096711562, 'payment_unknown'),\n",
       " (0.012711402419987406, 'source_class_unknown'),\n",
       " (0.013705690448827992, 'payment_pay per bucket'),\n",
       " (0.014510673984650205, 'payment_other'),\n",
       " (0.014623143000790994, 'source_class_surface'),\n",
       " (0.01477726978140893, 'management_trust'),\n",
       " (0.014806894123349132, 'source_type_rainwater harvesting'),\n",
       " (0.018007781699177498, 'payment_pay annually'),\n",
       " (0.019310697327970586, 'quantity_enough'),\n",
       " (0.03396080327903125, 'extraction_type_class_handpump'),\n",
       " (0.04115371077280589, 'quality_group_unknown'),\n",
       " (0.043086719227751716, 'waterpoint_type_hand pump'),\n",
       " (0.053232471591383314, 'quality_group_salty'),\n",
       " (0.10759037275874254, 'population'),\n",
       " (0.10960853511443829, 'public_meeting'),\n",
       " (0.18202483200496503, 'gps_height')]"
      ]
     },
     "execution_count": 35,
     "metadata": {},
     "output_type": "execute_result"
    }
   ],
   "source": [
    "lst=[]\n",
    "for coef,columns in zip(list(data.columns),list(rfc.feature_importances_)):\n",
    "    lst.append((columns,coef))\n",
    "\n",
    "sorted(lst)\n"
   ]
  },
  {
   "cell_type": "code",
   "execution_count": 42,
   "metadata": {},
   "outputs": [
    {
     "data": {
      "image/png": "[encoded data removed]",
      "text/plain": [
       "<Figure size 1152x648 with 1 Axes>"
      ]
     },
     "metadata": {
      "needs_background": "light"
     },
     "output_type": "display_data"
    }
   ],
   "source": [
    "keys_f =[]\n",
    "values_f =[]\n",
    "    \n",
    "for l in lst:\n",
    "    values_f.append(l[0])\n",
    "    keys_f.append(l[1])\n",
    "\n",
    "plt.figure(figsize=(16,9))\n",
    "plt.bar(keys_f, values_f)\n",
    "plt.xticks(rotation=50);\n"
   ]
  },
  {
   "cell_type": "markdown",
   "metadata": {},
   "source": [
    "# Decision Tree Classifier"
   ]
  },
  {
   "cell_type": "code",
   "execution_count": 79,
   "metadata": {},
   "outputs": [],
   "source": [
    "dt1 = DecisionTreeClassifier()\n",
    "dt1.fit(X_train, y_train)\n",
    "dt_X_preds1 =  dt1.predict(X_test)\n"
   ]
  },
  {
   "cell_type": "code",
   "execution_count": 80,
   "metadata": {},
   "outputs": [],
   "source": [
    "accuracy_dt1 = str(metrics.accuracy_score(y_test, dt_X_preds1))\n",
    "recall_dt1 = str(metrics.recall_score(y_test, dt_X_preds1, average='micro'))\n",
    "precision_dt1 = str(metrics.precision_score(y_test, dt_X_preds1, average='micro'))\n",
    "f1_dt1 = str(metrics.f1_score(y_test, dt_X_preds1, average='micro'))\n",
    "\n"
   ]
  },
  {
   "cell_type": "code",
   "execution_count": 81,
   "metadata": {},
   "outputs": [
    {
     "name": "stdout",
     "output_type": "stream",
     "text": [
      "0.7445286195286195\n"
     ]
    }
   ],
   "source": [
    "print(accuracy_dt1)\n"
   ]
  },
  {
   "cell_type": "markdown",
   "metadata": {},
   "source": [
    "# Random Forest Classifier with hyper parameter tuning"
   ]
  },
  {
   "cell_type": "code",
   "execution_count": 47,
   "metadata": {},
   "outputs": [],
   "source": [
    "rfc1 = RandomForestClassifier()\n"
   ]
  },
  {
   "cell_type": "code",
   "execution_count": 48,
   "metadata": {},
   "outputs": [],
   "source": [
    "rdc_params = {'n_estimators':range(2,10,2), \n",
    "              'max_features':['auto', 'log2', 'sqrt']}"
   ]
  },
  {
   "cell_type": "code",
   "execution_count": 49,
   "metadata": {},
   "outputs": [
    {
     "data": {
      "text/plain": [
       "GridSearchCV(cv=5, error_score='raise-deprecating',\n",
       "             estimator=RandomForestClassifier(bootstrap=True, class_weight=None,\n",
       "                                              criterion='gini', max_depth=None,\n",
       "                                              max_features='auto',\n",
       "                                              max_leaf_nodes=None,\n",
       "                                              min_impurity_decrease=0.0,\n",
       "                                              min_impurity_split=None,\n",
       "                                              min_samples_leaf=1,\n",
       "                                              min_samples_split=2,\n",
       "                                              min_weight_fraction_leaf=0.0,\n",
       "                                              n_estimators='warn', n_jobs=None,\n",
       "                                              oob_score=False,\n",
       "                                              random_state=None, verbose=0,\n",
       "                                              warm_start=False),\n",
       "             iid='warn', n_jobs=None,\n",
       "             param_grid={'max_features': ['auto', 'log2', 'sqrt'],\n",
       "                         'n_estimators': range(2, 10, 2)},\n",
       "             pre_dispatch='2*n_jobs', refit=True, return_train_score=False,\n",
       "             scoring=None, verbose=0)"
      ]
     },
     "execution_count": 49,
     "metadata": {},
     "output_type": "execute_result"
    }
   ],
   "source": [
    "cv_rfc = GridSearchCV(rfc1, rdc_params, cv=5) \n",
    "\n",
    "cv_rfc.fit(X_train, y_train)"
   ]
  },
  {
   "cell_type": "code",
   "execution_count": 90,
   "metadata": {},
   "outputs": [
    {
     "data": {
      "text/plain": [
       "RandomForestClassifier(bootstrap=True, class_weight=None, criterion='gini',\n",
       "                       max_depth=None, max_features='sqrt', max_leaf_nodes=None,\n",
       "                       min_impurity_decrease=0.0, min_impurity_split=None,\n",
       "                       min_samples_leaf=1, min_samples_split=2,\n",
       "                       min_weight_fraction_leaf=0.0, n_estimators=8,\n",
       "                       n_jobs=None, oob_score=False, random_state=None,\n",
       "                       verbose=0, warm_start=False)"
      ]
     },
     "execution_count": 90,
     "metadata": {},
     "output_type": "execute_result"
    }
   ],
   "source": [
    "cv_rfc.best_estimator_"
   ]
  },
  {
   "cell_type": "code",
   "execution_count": 50,
   "metadata": {},
   "outputs": [],
   "source": [
    "y_hat_train = cv_rfc.best_estimator_.predict(X_train)"
   ]
  },
  {
   "cell_type": "markdown",
   "metadata": {},
   "source": [
    "### second parameter tuning"
   ]
  },
  {
   "cell_type": "code",
   "execution_count": 51,
   "metadata": {},
   "outputs": [],
   "source": [
    "rdc_params = {'n_estimators':range(2,10,2), \n",
    "              'max_features': [2,5,10,15]}"
   ]
  },
  {
   "cell_type": "markdown",
   "metadata": {},
   "source": [
    "### model acurracy"
   ]
  },
  {
   "cell_type": "code",
   "execution_count": 89,
   "metadata": {},
   "outputs": [
    {
     "data": {
      "text/plain": [
       "'0.7710437710437711'"
      ]
     },
     "execution_count": 89,
     "metadata": {},
     "output_type": "execute_result"
    }
   ],
   "source": [
    "cv_rfc_X_test = cv_rfc.best_estimator_.predict(X_test)\n",
    "accuracy_cvrfc = str(metrics.accuracy_score(y_test, cv_rfc_X_test))\n",
    "accuracy_cvrfc"
   ]
  },
  {
   "cell_type": "markdown",
   "metadata": {},
   "source": [
    "## Confusion Matrix"
   ]
  },
  {
   "cell_type": "code",
   "execution_count": 53,
   "metadata": {},
   "outputs": [],
   "source": [
    "cm = confusion_matrix(y_train, y_hat_train, labels=['non functional', 'functional', 'functional needs repair'])"
   ]
  },
  {
   "cell_type": "code",
   "execution_count": 113,
   "metadata": {},
   "outputs": [
    {
     "data": {
      "text/plain": [
       "Text(0.5, 0, 'Predicted functionality')"
      ]
     },
     "execution_count": 113,
     "metadata": {},
     "output_type": "execute_result"
    },
    {
     "data": {
      "image/png": "[encoded data removed]",
      "text/plain": [
       "<Figure size 720x720 with 2 Axes>"
      ]
     },
     "metadata": {
      "needs_background": "light"
     },
     "output_type": "display_data"
    }
   ],
   "source": [
    "plt.figure(figsize=(10,10))\n",
    "plt.imshow(cm,  cmap=plt.cm.Blues) \n",
    "plt.colorbar()\n",
    "plt.title('Confusion Matrix for Random Forest',fontsize=20)\n",
    "plt.ylabel('True functionality',fontsize=20)\n",
    "plt.xlabel('Predicted functionality',fontsize=20)\n"
   ]
  },
  {
   "cell_type": "markdown",
   "metadata": {},
   "source": [
    "## XGBoost\n"
   ]
  },
  {
   "cell_type": "code",
   "execution_count": 61,
   "metadata": {},
   "outputs": [
    {
     "data": {
      "text/plain": [
       "XGBClassifier(base_score=0.5, booster=None, colsample_bylevel=1,\n",
       "              colsample_bynode=1, colsample_bytree=1, gamma=0, gpu_id=-1,\n",
       "              importance_type='gain', interaction_constraints=None,\n",
       "              learning_rate=0.300000012, max_delta_step=0, max_depth=6,\n",
       "              min_child_weight=1, missing=nan, monotone_constraints=None,\n",
       "              n_estimators=100, n_jobs=0, num_parallel_tree=1,\n",
       "              objective='multi:softprob', random_state=0, reg_alpha=0,\n",
       "              reg_lambda=1, scale_pos_weight=None, subsample=1,\n",
       "              tree_method=None, validate_parameters=False, verbosity=None)"
      ]
     },
     "execution_count": 61,
     "metadata": {},
     "output_type": "execute_result"
    }
   ],
   "source": [
    "xg = XGBClassifier()\n",
    "xg.fit(X_train, y_train)"
   ]
  },
  {
   "cell_type": "code",
   "execution_count": 62,
   "metadata": {},
   "outputs": [
    {
     "data": {
      "text/plain": [
       "array([0.00484809, 0.00465284, 0.00801993, 0.0155275 , 0.01422076,\n",
       "       0.00536073, 0.01505797, 0.00574342, 0.00580383, 0.00928425,\n",
       "       0.00547406, 0.00859919, 0.01587478, 0.03447436, 0.00630775,\n",
       "       0.02097896, 0.0128685 , 0.00510862, 0.00482848, 0.01663346,\n",
       "       0.01734793, 0.00796943, 0.00505639, 0.009457  , 0.01081138,\n",
       "       0.01186177, 0.00909475, 0.01803267, 0.01194975, 0.00521577,\n",
       "       0.00694255, 0.00833417, 0.01143579, 0.04519277, 0.00514154,\n",
       "       0.01026684, 0.00214244, 0.00564986, 0.00229467, 0.00369307,\n",
       "       0.00925122, 0.00297995, 0.00527317, 0.00989281, 0.00534189,\n",
       "       0.01156688, 0.00640211, 0.00841044, 0.00284149, 0.01464061,\n",
       "       0.0104044 , 0.016038  , 0.0063186 , 0.00854546, 0.00476814,\n",
       "       0.00394375, 0.01255552, 0.00568694, 0.00950862, 0.03524143,\n",
       "       0.03544438, 0.08685923, 0.01969938, 0.00878718, 0.0064958 ,\n",
       "       0.01386092, 0.00802425, 0.00622755, 0.01255143, 0.0121316 ,\n",
       "       0.        , 0.00808429, 0.03202483, 0.        , 0.00973391,\n",
       "       0.01284559, 0.11006017], dtype=float32)"
      ]
     },
     "execution_count": 62,
     "metadata": {},
     "output_type": "execute_result"
    }
   ],
   "source": [
    "xg.feature_importances_"
   ]
  },
  {
   "cell_type": "code",
   "execution_count": 63,
   "metadata": {},
   "outputs": [
    {
     "data": {
      "text/plain": [
       "[(5.935400434505762e-05, 'waterpoint_type_communal standpipe'),\n",
       " (0.00043472287442864794, 'extraction_type_class_wind-powered'),\n",
       " (0.0004493225278132377, 'management_parastatal'),\n",
       " (0.0006431986803700422, 'extraction_type_class_rope pump'),\n",
       " (0.0008646823019111656, 'source_type_spring'),\n",
       " (0.0009564686388217819, 'quantity_unknown'),\n",
       " (0.0010548376480234442, 'payment_pay when scheme fails'),\n",
       " (0.0012853446592560902, 'basin_Ruvuma / Southern Coast'),\n",
       " (0.0016144407844546258, 'extraction_type_class_motorpump'),\n",
       " (0.0017607277486863023, 'management_private operator'),\n",
       " (0.0019907730881214055, 'quality_group_fluoride'),\n",
       " (0.0022925182187819304, 'extraction_type_class_submersible'),\n",
       " (0.0024461877181595334, 'region_Kigoma'),\n",
       " (0.002698549992255974, 'management_wua'),\n",
       " (0.002832786869799565, 'waterpoint_type_dam'),\n",
       " (0.0028374857224152113, 'quantity_insufficient'),\n",
       " (0.002849907319966586, 'management_unknown'),\n",
       " (0.002863503783167161, 'quantity_seasonal'),\n",
       " (0.00290053225125414, 'region_Mbeya'),\n",
       " (0.0030311560119399327, 'region_Shinyanga'),\n",
       " (0.0032152768448003395, 'region_Mwanza'),\n",
       " (0.0032387304671901247, 'region_Manyara'),\n",
       " (0.003464375810691292, 'region_Lindi'),\n",
       " (0.0036515276293727335, 'region_Dodoma'),\n",
       " (0.0036841383233057736, 'region_Mara'),\n",
       " (0.0036936011613368817, 'basin_Wami / Ruvu'),\n",
       " (0.0037335708276398697, 'region_Singida'),\n",
       " (0.0037752309650625425, 'region_Kilimanjaro'),\n",
       " (0.00390329516444688, 'region_Mtwara'),\n",
       " (0.003973913025970959, 'management_water authority'),\n",
       " (0.004025913693837308, 'region_Pwani'),\n",
       " (0.004163348209302574, 'region_Iringa'),\n",
       " (0.004232310790285847, 'region_Ruvuma'),\n",
       " (0.004374213361110719, 'management_other'),\n",
       " (0.004377586061338002, 'region_Morogoro'),\n",
       " (0.004512604021872462, 'management_other - school'),\n",
       " (0.0049592145477074705, 'management_vwc'),\n",
       " (0.005064901523660953, 'basin_Pangani'),\n",
       " (0.005153389929675833, 'management_water board'),\n",
       " (0.0054369638680298645, 'status_group'),\n",
       " (0.005646841851236244, 'region_Rukwa'),\n",
       " (0.005755568526206058, 'source_type_dam'),\n",
       " (0.005992051002499708, 'region_Tanga'),\n",
       " (0.005998367185558056, 'region_Kagera'),\n",
       " (0.006301536714584935, 'construction_year'),\n",
       " (0.006417049969904132, 'basin_Lake Tanganyika'),\n",
       " (0.006616065035994064, 'basin_Rufiji'),\n",
       " (0.0068956413952787395, 'quality_group_good'),\n",
       " (0.0074742914868961546, 'quality_group_milky'),\n",
       " (0.007788647317123668, 'basin_Lake Victoria'),\n",
       " (0.008270611402313756, 'source_type_other'),\n",
       " (0.009026782151360246, 'waterpoint_type_communal standpipe multiple'),\n",
       " (0.009086815409308467, 'basin_Lake Nyasa'),\n",
       " (0.009645492245294308, 'payment_pay monthly'),\n",
       " (0.0096612471948388, 'region_Dar es Salaam'),\n",
       " (0.009852263678239532, 'basin_Lake Rukwa'),\n",
       " (0.010206357650942677, 'source_type_shallow well'),\n",
       " (0.010449940502234299, 'management_wug'),\n",
       " (0.010597677129698656, 'region_Tabora'),\n",
       " (0.011781822748675624, 'extraction_type_class_other'),\n",
       " (0.012406826699209245, 'source_type_river/lake'),\n",
       " (0.012516498096711562, 'payment_unknown'),\n",
       " (0.012711402419987406, 'source_class_unknown'),\n",
       " (0.013705690448827992, 'payment_pay per bucket'),\n",
       " (0.014510673984650205, 'payment_other'),\n",
       " (0.014623143000790994, 'source_class_surface'),\n",
       " (0.01477726978140893, 'management_trust'),\n",
       " (0.014806894123349132, 'source_type_rainwater harvesting'),\n",
       " (0.018007781699177498, 'payment_pay annually'),\n",
       " (0.019310697327970586, 'quantity_enough'),\n",
       " (0.03396080327903125, 'extraction_type_class_handpump'),\n",
       " (0.04115371077280589, 'quality_group_unknown'),\n",
       " (0.043086719227751716, 'waterpoint_type_hand pump'),\n",
       " (0.053232471591383314, 'quality_group_salty'),\n",
       " (0.10759037275874254, 'population'),\n",
       " (0.10960853511443829, 'public_meeting'),\n",
       " (0.18202483200496503, 'gps_height')]"
      ]
     },
     "execution_count": 63,
     "metadata": {},
     "output_type": "execute_result"
    }
   ],
   "source": [
    "xglist=[]\n",
    "for coef,columns in zip(list(data.columns),list(xg.feature_importances_)):\n",
    "    xglist.append((columns,coef))\n",
    "\n",
    "sorted(lst)\n"
   ]
  },
  {
   "cell_type": "code",
   "execution_count": 76,
   "metadata": {},
   "outputs": [
    {
     "data": {
      "text/plain": [
       "'0.7819023569023569'"
      ]
     },
     "execution_count": 76,
     "metadata": {},
     "output_type": "execute_result"
    }
   ],
   "source": [
    "xg_X_test = xg.predict(X_test)\n",
    "accuracy_xg = str(metrics.accuracy_score(y_test, xg_X_test))\n",
    "accuracy_xg"
   ]
  },
  {
   "cell_type": "code",
   "execution_count": 88,
   "metadata": {},
   "outputs": [
    {
     "name": "stdout",
     "output_type": "stream",
     "text": [
      "0.7819023569023569\n",
      "0.7819023569023569\n",
      "0.7819023569023569\n"
     ]
    }
   ],
   "source": [
    "recall_xg = str(metrics.recall_score(y_test, xg_X_test, average='micro'))\n",
    "precision_xg = str(metrics.precision_score(y_test, xg_X_test, average='micro'))\n",
    "f1_xg = str(metrics.f1_score(y_test, xg_X_test, average='micro'))\n",
    "print(recall_xg)\n",
    "print(precision_xg)\n",
    "print(f1_xg)"
   ]
  },
  {
   "cell_type": "code",
   "execution_count": 84,
   "metadata": {},
   "outputs": [],
   "source": [
    "y_hat_test = xg.predict(X_test)"
   ]
  },
  {
   "cell_type": "code",
   "execution_count": 86,
   "metadata": {},
   "outputs": [
    {
     "data": {
      "text/plain": [
       "array([[3253, 1293,   26],\n",
       "       [ 515, 5883,   59],\n",
       "       [ 130,  568,  153]], dtype=int64)"
      ]
     },
     "execution_count": 86,
     "metadata": {},
     "output_type": "execute_result"
    }
   ],
   "source": [
    "cm_xg = confusion_matrix(y_test, y_hat_test, labels=['non functional', 'functional', 'functional needs repair'])\n",
    "cm_xg"
   ]
  },
  {
   "cell_type": "markdown",
   "metadata": {},
   "source": [
    "# XGBoost With Parameter tuning"
   ]
  },
  {
   "cell_type": "code",
   "execution_count": 92,
   "metadata": {},
   "outputs": [],
   "source": [
    "xg_params = {'max_depth' : range(0,15,2) , \n",
    "             'booster' : ['gbtree', 'gblinear', 'dart']}"
   ]
  },
  {
   "cell_type": "code",
   "execution_count": 93,
   "metadata": {},
   "outputs": [],
   "source": [
    "xg_gs = XGBClassifier()"
   ]
  },
  {
   "cell_type": "code",
   "execution_count": 94,
   "metadata": {},
   "outputs": [
    {
     "data": {
      "text/plain": [
       "GridSearchCV(cv=5, error_score='raise-deprecating',\n",
       "             estimator=XGBClassifier(base_score=None, booster=None,\n",
       "                                     colsample_bylevel=None,\n",
       "                                     colsample_bynode=None,\n",
       "                                     colsample_bytree=None, gamma=None,\n",
       "                                     gpu_id=None, importance_type='gain',\n",
       "                                     interaction_constraints=None,\n",
       "                                     learning_rate=None, max_delta_step=None,\n",
       "                                     max_depth=None, min_child_weight=None,\n",
       "                                     missing=nan, monotone_constrai...\n",
       "                                     objective='binary:logistic',\n",
       "                                     random_state=None, reg_alpha=None,\n",
       "                                     reg_lambda=None, scale_pos_weight=None,\n",
       "                                     subsample=None, tree_method=None,\n",
       "                                     validate_parameters=False,\n",
       "                                     verbosity=None),\n",
       "             iid='warn', n_jobs=None,\n",
       "             param_grid={'booster': ['gbtree', 'gblinear', 'dart'],\n",
       "                         'max_depth': range(0, 15, 2)},\n",
       "             pre_dispatch='2*n_jobs', refit=True, return_train_score=False,\n",
       "             scoring=None, verbose=0)"
      ]
     },
     "execution_count": 94,
     "metadata": {},
     "output_type": "execute_result"
    }
   ],
   "source": [
    "cv_xgb = GridSearchCV(xg_gs, xg_params, cv=5) \n",
    "\n",
    "cv_xgb.fit(X_train, y_train)"
   ]
  },
  {
   "cell_type": "code",
   "execution_count": 95,
   "metadata": {},
   "outputs": [
    {
     "data": {
      "text/plain": [
       "XGBClassifier(base_score=0.5, booster='gbtree', colsample_bylevel=1,\n",
       "              colsample_bynode=1, colsample_bytree=1, gamma=0, gpu_id=-1,\n",
       "              importance_type='gain', interaction_constraints=None,\n",
       "              learning_rate=0.300000012, max_delta_step=0, max_depth=10,\n",
       "              min_child_weight=1, missing=nan, monotone_constraints=None,\n",
       "              n_estimators=100, n_jobs=0, num_parallel_tree=1,\n",
       "              objective='multi:softprob', random_state=0, reg_alpha=0,\n",
       "              reg_lambda=1, scale_pos_weight=None, subsample=1,\n",
       "              tree_method=None, validate_parameters=False, verbosity=None)"
      ]
     },
     "execution_count": 95,
     "metadata": {},
     "output_type": "execute_result"
    }
   ],
   "source": [
    "cv_xgb.best_estimator_"
   ]
  },
  {
   "cell_type": "code",
   "execution_count": 96,
   "metadata": {},
   "outputs": [
    {
     "data": {
      "text/plain": [
       "'0.7860269360269361'"
      ]
     },
     "execution_count": 96,
     "metadata": {},
     "output_type": "execute_result"
    }
   ],
   "source": [
    "xg_gs_X_test = cv_xgb.best_estimator_.predict(X_test)\n",
    "accuracy_xg_gs = str(metrics.accuracy_score(y_test, xg_gs_X_test))\n",
    "accuracy_xg_gs"
   ]
  },
  {
   "cell_type": "code",
   "execution_count": 99,
   "metadata": {},
   "outputs": [],
   "source": [
    "y_hat_test_gs = cv_xgb.best_estimator_.predict(X_test)"
   ]
  },
  {
   "cell_type": "code",
   "execution_count": 100,
   "metadata": {},
   "outputs": [
    {
     "data": {
      "text/plain": [
       "array([[3383, 1128,   61],\n",
       "       [ 595, 5743,  119],\n",
       "       [ 113,  526,  212]], dtype=int64)"
      ]
     },
     "execution_count": 100,
     "metadata": {},
     "output_type": "execute_result"
    }
   ],
   "source": [
    "cm_xg_gs = confusion_matrix(y_test, y_hat_test_gs, labels=['non functional', 'functional', 'functional needs repair'])\n",
    "cm_xg_gs"
   ]
  },
  {
   "cell_type": "code",
   "execution_count": 107,
   "metadata": {},
   "outputs": [
    {
     "data": {
      "text/plain": [
       "Text(0.5, 0, 'Predicted functionalityy')"
      ]
     },
     "execution_count": 107,
     "metadata": {},
     "output_type": "execute_result"
    },
    {
     "data": {
      "image/png": "[encoded data removed]",
      "text/plain": [
       "<Figure size 720x720 with 2 Axes>"
      ]
     },
     "metadata": {
      "needs_background": "light"
     },
     "output_type": "display_data"
    }
   ],
   "source": [
    "plt.figure(figsize=(10,10))\n",
    "plt.imshow(cm_xg_gs,  cmap=plt.cm.Blues) \n",
    "plt.colorbar()\n",
    "plt.title('Confusion Matrix for XGBoost updated',fontsize=20)\n",
    "plt.ylabel('True functionality',fontsize=20)\n",
    "plt.xlabel('Predicted functionalityy',fontsize=20)\n"
   ]
  },
  {
   "cell_type": "markdown",
   "metadata": {},
   "source": [
    "### Model Comparison"
   ]
  },
  {
   "cell_type": "code",
   "execution_count": 104,
   "metadata": {},
   "outputs": [
    {
     "name": "stdout",
     "output_type": "stream",
     "text": [
      "0.7724747474747474\n",
      "0.7724747474747474\n",
      "0.7724747474747474\n",
      "0.7724747474747474\n"
     ]
    }
   ],
   "source": [
    "#untuned rf\n",
    "\n",
    "accuracy_rfc = str(metrics.accuracy_score(y_test, rfc_X_test))\n",
    "recall_rfc = str(metrics.recall_score(y_test, rfc_X_test, average='micro'))\n",
    "precision_rfc = str(metrics.precision_score(y_test, rfc_X_test, average='micro'))\n",
    "f1_rfc = str(metrics.f1_score(y_test, rfc_X_test, average='micro'))\n",
    "\n",
    "print(accuracy_rfc)\n",
    "print(recall_rfc)\n",
    "print(precision_rfc)\n",
    "print(f1_rfc)"
   ]
  },
  {
   "cell_type": "code",
   "execution_count": 101,
   "metadata": {},
   "outputs": [
    {
     "name": "stdout",
     "output_type": "stream",
     "text": [
      "0.7819023569023569\n",
      "0.7819023569023569\n",
      "0.7819023569023569\n",
      "0.7819023569023569\n"
     ]
    }
   ],
   "source": [
    "#first tuned rf: max_f = sqrt, n_est=8\n",
    "\n",
    "accuracy_rf = str(metrics.accuracy_score(y_test, xg_X_test))\n",
    "recall_rf = str(metrics.recall_score(y_test, xg_X_test, average='micro'))\n",
    "precision_rf = str(metrics.precision_score(y_test, xg_X_test, average='micro'))\n",
    "f1_rf = str(metrics.f1_score(y_test, xg_X_test, average='micro'))\n",
    "\n"
   ]
  },
  {
   "cell_type": "code",
   "execution_count": 105,
   "metadata": {},
   "outputs": [],
   "source": [
    "#xg untuned\n",
    "\n",
    "accuracy_xg = str(metrics.accuracy_score(y_test, xg_X_test))\n",
    "recall_xg = str(metrics.recall_score(y_test, xg_X_test, average='micro'))\n",
    "precision_xg = str(metrics.precision_score(y_test, xg_X_test, average='micro'))\n",
    "f1_xg = str(metrics.f1_score(y_test, xg_X_test, average='micro'))\n",
    "\n",
    "print(accuracy_xg)\n",
    "print(recall_xg)\n",
    "print(precision_xg)\n",
    "print(f1_xg)"
   ]
  },
  {
   "cell_type": "code",
   "execution_count": null,
   "metadata": {},
   "outputs": [],
   "source": [
    "#first tuned xg: max depth=10, booster=gbtree\n",
    "\n",
    "recall_xg = str(metrics.recall_score(y_test, xg_X_test, average='micro'))\n",
    "precision_xg = str(metrics.precision_score(y_test, xg_X_test, average='micro'))\n",
    "f1_xg = str(metrics.f1_score(y_test, xg_X_test, average='micro'))"
   ]
  }
 ],
 "metadata": {
  "kernelspec": {
   "display_name": "Python 3",
   "language": "python",
   "name": "python3"
  },
  "language_info": {
   "codemirror_mode": {
    "name": "ipython",
    "version": 3
   },
   "file_extension": ".py",
   "mimetype": "text/x-python",
   "name": "python",
   "nbconvert_exporter": "python",
   "pygments_lexer": "ipython3",
   "version": "3.7.4"
  }
 },
 "nbformat": 4,
 "nbformat_minor": 4
}
